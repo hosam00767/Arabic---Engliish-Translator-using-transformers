{
  "nbformat": 4,
  "nbformat_minor": 0,
  "metadata": {
    "colab": {
      "provenance": [],
      "authorship_tag": "ABX9TyOdEnv5fCsm5QnxXaPCZzXH",
      "include_colab_link": true
    },
    "kernelspec": {
      "name": "python3",
      "display_name": "Python 3"
    },
    "language_info": {
      "name": "python"
    }
  },
  "cells": [
    {
      "cell_type": "markdown",
      "metadata": {
        "id": "view-in-github",
        "colab_type": "text"
      },
      "source": [
        "<a href=\"https://colab.research.google.com/github/hosam00767/Arabic-English-Translator-using-transformers/blob/main/Transformer_from_scratch_using_Pytorch.ipynb\" target=\"_parent\"><img src=\"https://colab.research.google.com/assets/colab-badge.svg\" alt=\"Open In Colab\"/></a>"
      ]
    },
    {
      "cell_type": "code",
      "execution_count": 15,
      "metadata": {
        "id": "QbMRKqS49fPN"
      },
      "outputs": [],
      "source": [
        "import torch\n",
        "import torch.nn as nn\n",
        "import math"
      ]
    },
    {
      "cell_type": "code",
      "source": [
        "class InputEmbedding(nn.Module):\n",
        "  def __init__(self, d_model: int, vocab_size: int):\n",
        "    super().__init__()\n",
        "    self.d_model = d_model\n",
        "    self.vocab_size = vocab_size\n",
        "    self.embedding = nn.Embedding(vocab_size,d_model)\n",
        "\n",
        "  def forward(self, x):\n",
        "    return self.embedding(x) * math.sqrt(self.d_model)"
      ],
      "metadata": {
        "id": "ZF03bwkljB4Y"
      },
      "execution_count": 16,
      "outputs": []
    },
    {
      "cell_type": "code",
      "source": [
        "class PositionalEncoding(nn.Module):\n",
        "\n",
        "  def __init__(self, d_model: int, seq_len: int, dropout: float) -> None:\n",
        "    super().__init__()\n",
        "    self.d_model = d_model\n",
        "    self.seq_len = seq_len\n",
        "    self.dropout = nn.Dropout(dropout)\n",
        "\n",
        "    pe = torch.zeros(seq_len, d_model)\n",
        "    #creating the positional Embedding vector\n",
        "    position = torch.zeros(seq_len, d_model).unsqueeze(1)\n",
        "    div_term = torch.exp(torch.arange(0,d_model,2)*-(math.log(1000.0/d_model)))\n",
        "    pe[:, 0::2] = torch.sin(position * div_term)\n",
        "    pe[:, 1::2] = torch.cos(position * div_term)\n",
        "    pe = pe.unsqueeze(0)\n",
        "    self.register_buffer('pe',pe)\n",
        "\n",
        "  def forward(self, x):\n",
        "    x = x + self.pe[:, :x.shape[1], :].require_grad_(False)\n",
        "    return self.dropout(x)\n",
        "\n"
      ],
      "metadata": {
        "id": "sICYAVyok3v6"
      },
      "execution_count": 17,
      "outputs": []
    },
    {
      "cell_type": "code",
      "source": [
        "class LayerNormalization(nn.Module):\n",
        "  def __init__(self, eps: float = 10**-6):\n",
        "    super().__init__()\n",
        "    self.eps = eps\n",
        "    self.bias = nn.Parameter(torch.ones(0)) # Parameter makes the parameter learnable\n",
        "    self.alpha = nn.Parameter(torch.ones(1))\n",
        "\n",
        "  def forward(self, x):\n",
        "    mean = x.mean(dim = -1, keepdim=True)\n",
        "    std = x.std(dim=-1, keepdim=True) #return mean output with the same shape as x\n",
        "    return self.alpha * (x-mean)/(std+ self.eps)+  self.bias\n"
      ],
      "metadata": {
        "id": "5GC0NGbDk3kw"
      },
      "execution_count": 18,
      "outputs": []
    },
    {
      "cell_type": "code",
      "source": [
        "class FeedForwardBlock(nn.Module):\n",
        "  def __init__(self, d_model, d_ff:  int, dropout: float):\n",
        "    super().__init__()\n",
        "\n",
        "    # Bias is True by default inside Linear\n",
        "    self.linear_1 = nn.Linear(d_model, d_ff) # W1 and B1\n",
        "    self.dropout()\n",
        "    self.linear_2 = nn.Linear(d_ff, d_model) # W2 and B2\n",
        "\n",
        "  def forward(self, x):\n",
        "    # 1- (Batch, seq_len, d_model) --> (Batch, seq_len, d_ff)\n",
        "    # 2- (Batch, seq_len, d_ff)    --> (Batch, seq_len, d_model)\n",
        "\n",
        "    return self.linear2(self.dropout(torch.relu(self.linear_1(x))))\n"
      ],
      "metadata": {
        "id": "C2QxTtGw-YPp"
      },
      "execution_count": 19,
      "outputs": []
    },
    {
      "cell_type": "code",
      "source": [
        "# MultiHead Attention\n",
        "class MultiHeadAttentionBlock(nn.Module):\n",
        "  def __init__(self, d_model: int, h: int, dropout: float) -> None:\n",
        "    super().__init__()\n",
        "    self.d_model = d_model\n",
        "    self.h = h\n",
        "    assert d_model % h == 0\n",
        "\n",
        "    self.d_k = d_model % h\n",
        "    self.w_q = nn.Linear(d_model, d_model)\n",
        "    self.w_v = nn.Linear(d_model, d_model)\n",
        "    self.w_k = nn.Linear(d_model, d_model)\n",
        "    self.w_o = nn.Linear(d_model, d_model)\n",
        "\n",
        "    self.dropout = nn.Dropout(dropout)\n",
        "\n",
        "  @staticmethod\n",
        "  def attention(query, key, value, mask, dropout):\n",
        "    d_k = query.shape[-1]\n",
        "\n",
        "    attention_scores = (query @ key.transpose(-2,-1)) / math.sqrt(d_k)\n",
        "\n",
        "    if mask is not None:\n",
        "      attention_scores.masked_fill_(mask == 0, -1e9)\n",
        "    attention_scores = attention_scores.softmax (dim=-1)\n",
        "\n",
        "    if dropout is not None:\n",
        "      attention_scores = dropout(attention_scores)\n",
        "\n",
        "    return (attention_scores@value), attention_scores\n",
        "\n",
        "  def forward(self, q, v, k, mask):\n",
        "    query = self.w_q(q)\n",
        "    value = self.w_v(v)\n",
        "    key = self.w_k(k)\n",
        "    #view function is used to reshape a tensor\n",
        "    query = query.view(query.shape[0], query.shape[1], self.h, self.d_k).transpose(1,2)\n",
        "    key = key.view(query.shape[0], query.shape[1], self.h, self.d_k).transpose(1,2)\n",
        "    value = value.view(query.shape[0], query.shape[1], self.h, self.d_k).transpose(1,2)\n",
        "\n",
        "    x, self.attention_scores = MultiHeadAttentionBlock.attention(q,k,v,mask,self.dropout)\n",
        "\n",
        "    x = x.transpose(1,2 ).continguous().view(x.shape[0],-1,self.h * self.d_k )\n",
        "    x = self.w_o(x)\n",
        "    return x\n",
        "\n"
      ],
      "metadata": {
        "id": "7328blA_h9oX"
      },
      "execution_count": 20,
      "outputs": []
    },
    {
      "cell_type": "code",
      "source": [
        "class ResidualConnection(nn.Module):\n",
        "  def __init__(self, dropout: float)-> None:\n",
        "    super().__init__()\n",
        "    self.dropout = nn.Dropout(dropout)\n",
        "    self.norm = LayerNormalization()\n",
        "\n",
        "  def forward(self, x, sublayer):\n",
        "    return x + self.dropout(sublayer(self.norm(x)))"
      ],
      "metadata": {
        "id": "ueV2M49mgTKL"
      },
      "execution_count": 21,
      "outputs": []
    },
    {
      "cell_type": "code",
      "source": [
        "class EncoderBlock(nn.Module):\n",
        "  def __init__(self, self_attention_block:MultiHeadAttentionBlock, feed_forward_block:FeedForwardBlock, dropout: float)->None:\n",
        "    super().__init__()\n",
        "    self.self_attention_block = self_attention_block\n",
        "    self.feed_forward_block = feed_forward_block\n",
        "    self.residual_connections = nn.ModuleList([ResidualConnection(dropout) for i in range(2)])\n",
        "\n",
        "  def forward(self, x, src_mask):\n",
        "    x = self.residual_connections[0](x, lambda x: self.self_attention_block(x, x, x, src_mask))\n",
        "    x = self.residual_connections[1](x, self.feed_forward_block)\n"
      ],
      "metadata": {
        "id": "pSPykg57GF31"
      },
      "execution_count": 22,
      "outputs": []
    },
    {
      "cell_type": "code",
      "source": [
        "class Encoder(nn.Module):\n",
        "  def __init__(self, layers: nn.ModuleList):\n",
        "    super().__init__()\n",
        "    self.layers = layers\n",
        "\n",
        "  def forward(self, x, mask):\n",
        "    for layer in self.layers:\n",
        "      x = layer(x,mask)"
      ],
      "metadata": {
        "id": "TCK-IZY5ManJ"
      },
      "execution_count": 23,
      "outputs": []
    },
    {
      "cell_type": "code",
      "source": [
        "class DecoderBlock(nn.Module):\n",
        "  def __init__(self, cross_attention_block: MultiHeadAttentionBlock, self_attention_block:MultiHeadAttentionBlock, feed_forward_block:FeedForwardBlock, dropout: float)->None:\n",
        "    super().__init__()\n",
        "\n",
        "    self.self_attention_block = self_attention_block\n",
        "    self.cross_attention_block = cross_attention_block\n",
        "    self.feed_forward_block = feed_forward_block\n",
        "    self.residual_connections = nn.ModuleList([ResidualConnection(dropout) for _ in range(3)])\n",
        "\n",
        "  def forward(self, x, encoder_output, src_mask, tar_mask):\n",
        "    x = self.residual_connections[0](x, lambda x: self.self_attention_block(x, x, x, tar_mask))\n",
        "    x = self.residual_connections[1](x, lambda x: self.cross_attention_block(x, encoder_output, encoder_output, src_mask))\n",
        "    x = self.residual_connections[2](x, self.feed_forward_block)\n",
        "    return x\n"
      ],
      "metadata": {
        "id": "e_z4XDAg_eS2"
      },
      "execution_count": 24,
      "outputs": []
    },
    {
      "cell_type": "code",
      "source": [
        "class Decoder(nn.Module):\n",
        "  def __init__(self, layers: nn.ModuleList):\n",
        "    super().__init__()\n",
        "    self.layers = layers\n",
        "\n",
        "  def forward(self, x, encoder_output, src_mask, tar_mask):\n",
        "    for layer in self.layers:\n",
        "      x= layer(x, encoder_output, src_mask, tar_mask)\n",
        "    return self.norm(x)\n"
      ],
      "metadata": {
        "id": "t9i-39WuR-j3"
      },
      "execution_count": 25,
      "outputs": []
    },
    {
      "cell_type": "code",
      "source": [
        "class ProjectionLayer(nn.Module):\n",
        "  def __init__(self, d_model, vocab_size)-> None:\n",
        "    super().__init__()\n",
        "    self.proj = nn.Linear(d_model, vocab_size)\n",
        "\n",
        "  def forward(self, x):\n",
        "    return torch.log_softmax(self.proj(x), dim=-1)\n",
        "\n"
      ],
      "metadata": {
        "id": "QyowD4icRrwr"
      },
      "execution_count": 26,
      "outputs": []
    },
    {
      "cell_type": "code",
      "source": [
        "class Transformer(nn.Module):\n",
        "  def __init__(self, encoder: Encoder, decoder: Decoder, src_embedding: InputEmbedding, tar_embedding: InputEmbedding, src_pos: PositionalEncoding, tar_pos: PositionalEncoding, projection_layer: ProjectionLayer):\n",
        "    super().__init__()\n",
        "    self.encoder = encoder\n",
        "    self.decoder = decoder\n",
        "    self.src_embedding = src_embedding\n",
        "    self.tar_embedding = tar_embedding\n",
        "    self.src_pos = src_pos\n",
        "    self.tar_pos = tar_pos\n",
        "    self.projection_layer = projection_layer\n",
        "\n",
        "\n",
        "  def encode(self, src, src_mask):\n",
        "    src = self.src_embedding(src)\n",
        "    src = self.src_pos(src)\n",
        "    return self.encoder(src, src_mask)\n",
        "\n",
        "  def decode(self, encoder_output, src_mask, tar, tar_mask):\n",
        "    tar = self.tar_embedding(tar)\n",
        "    tar = self.tar_pos(tar)\n",
        "    tar = self.decoder( tar, encoder_output, src_mask, tar_mask)\n",
        "    return tar\n",
        "\n",
        "  def project(self, x):\n",
        "    return self.projection_layer(x)\n"
      ],
      "metadata": {
        "id": "TQA1CemSTNyf"
      },
      "execution_count": 27,
      "outputs": []
    },
    {
      "cell_type": "code",
      "source": [
        "def build_Transformer(src_vocab_size: int, tar_vocab_size: int, src_seq_len: int, tar_seq_len: int, d_model=512, N: int = 6, h: int = 8, dropout: float = 0.1, d_ff: int = 2048)-> Transformer:\n",
        "  src_embedding = InputEmbedding(d_model, vocab_size=src_vocab_size)\n",
        "  tar_embedding = InputEmbedding(d_model, vocab_size=tar_vocab_size)\n",
        "\n",
        "  # postional encoding\n",
        "  src_positional_encoding = PositionalEncoding(d_model, src_seq_len, dropout)\n",
        "  tar_positional_encoding = PositionalEncoding(d_model, tar_seq_len, dropout)\n",
        "\n",
        "  encoder_blocks= []\n",
        "  for _ in range(N):\n",
        "    encoder_self_attention_block = MultiHeadAttentionBlock(d_model, h, dropout)\n",
        "    encoder_feedforward_block = FeedForwardBlock(d_model, d_ff, dropout)\n",
        "    encoder_block = EncoderBlock(encoder_self_attention_block, encoder_feedforward_block, dropout)\n",
        "    encoder_blocks.append(encoder_block)\n",
        "\n",
        "  decoder_blocks= []\n",
        "  for _ in range(N):\n",
        "    decoder_self_attention_block = MultiHeadAttentionBlock(d_model, h, dropout)\n",
        "    decoder_cross_attention_block = MultiHeadAttentionBlock(d_model, h, dropout)\n",
        "    decoder_feedforward_block = FeedForwardBlock(d_model, d_ff, dropout)\n",
        "    decoder_block = DecoderBlock(decoder_self_attention_block, decoder_cross_attention_block, decoder_feedforward_block, dropout)\n",
        "    decoder_blocks.append(decoder_block)\n",
        "\n",
        "  encoder = Encoder(nn.ModuleList(encoder_blocks))\n",
        "  decoder = Decoder(nn.ModuleList(decoder_blocks))\n",
        "  projection_layer = ProjectionLayer(d_model= d_model, vocab_size= tar_vocab_size)\n",
        "\n",
        "  transformer = Transformer(encoder, decoder, src_embedding, tar_embedding, src_positional_encoding, tar_positional_encoding, projection_layer)\n",
        "  # intialize the parameter\n",
        "  for p in transformer.parameters():\n",
        "    if p.dim() > 1:\n",
        "      nn.init.xavier_uniform_(p)\n",
        "\n",
        "  return transformer\n"
      ],
      "metadata": {
        "id": "2LWTZXK8S-i-"
      },
      "execution_count": 28,
      "outputs": []
    },
    {
      "cell_type": "code",
      "source": [],
      "metadata": {
        "id": "8m6ar2-lBJGd"
      },
      "execution_count": 28,
      "outputs": []
    }
  ]
}